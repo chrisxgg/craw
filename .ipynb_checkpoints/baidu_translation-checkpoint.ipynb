{
 "cells": [
  {
   "cell_type": "markdown",
   "metadata": {},
   "source": [
    "# 百度翻译 单词\n",
    "# BaiDu translation -word"
   ]
  },
  {
   "cell_type": "code",
   "execution_count": null,
   "metadata": {},
   "outputs": [],
   "source": [
    "import urllib.request\n",
    "import urllib.parse\n",
    "import json\n",
    "\n",
    "def translate(text):\n",
    "    if not text:\n",
    "        return 'None'\n",
    "    # 请求网址 the url\n",
    "    url = \"https://fanyi.baidu.com/sug\"\n",
    "    # 表单数据 form data\n",
    "    params = {\n",
    "        'kw':text\n",
    "    }\n",
    "    data = urllib.parse.urlencode(params).encode('utf-8')\n",
    "    # 请求头部 request head\n",
    "    headers = { \n",
    "        'User-Agent':'Mozilla/5.0 (Windows NT 10.0; WOW64) AppleWebKit/537.36 (KHTML, like Gecko) Chrome/67.0.3396.99 Safari/537.36'\n",
    "    }\n",
    "    # 构造请求对象 build request\n",
    "    req = urllib.request.Request(url=url,data=data,headers=headers)\n",
    "    # 发送请求，获得响应 the response \n",
    "    response = urllib.request.urlopen(req)\n",
    "    # 解析数据 get the data\n",
    "    content = json.loads(response.read().decode('utf-8'))\n",
    "    if content['errno'] == 0: \n",
    "        result = content['data'][0]['v']\n",
    "    else: \n",
    "        result = 'Error'\n",
    "    return result\n",
    "\n",
    "if __name__ == \"__main__\":\n",
    "    while True :\n",
    "        text = input('翻译内容：')\n",
    "        if text == '':\n",
    "            print('End')\n",
    "            break;\n",
    "        result = translate(text)\n",
    "        print('翻译结果：%s' % result)\n",
    "        "
   ]
  },
  {
   "cell_type": "markdown",
   "metadata": {},
   "source": [
    "# 百度翻译 单词and句子\n",
    "# BaiDu translation -word&sentence"
   ]
  },
  {
   "cell_type": "code",
   "execution_count": null,
   "metadata": {},
   "outputs": [],
   "source": [
    "import urllib.request\n",
    "import urllib.parse\n",
    "import json\n",
    "\n",
    "def translate(text):\n",
    "    if not text:\n",
    "        return 'None'\n",
    "    url = \"http://api.fanyi.baidu.com/api/trans/vip/translate\"\n",
    "    str1 = 'appid'\n",
    "    str2 = text\n",
    "    str3 = '12345'\n",
    "    str4 = 'keyword'\n",
    "    str = str1 + str2 + str3 + str4\n",
    "    hl = hashlib.md5()\n",
    "    hl.update(str.encode(\"utf-8\"))\n",
    "    sign = hl.hexdigest()\n",
    "    params = {\n",
    "        'q':text,\n",
    "        'from':'auto',\n",
    "        'to':'auto',\n",
    "        'appid':'20190711000317120',\n",
    "        'salt':'12345',\n",
    "        'sign':sign\n",
    "    }\n",
    "    data = urllib.parse.urlencode(params).encode('utf-8')\n",
    "    headers = { \n",
    "        'User-Agent':'Mozilla/5.0 (Windows NT 10.0; WOW64) AppleWebKit/537.36 (KHTML, like Gecko) Chrome/67.0.3396.99 Safari/537.36'\n",
    "    }\n",
    "    req = urllib.request.Request(url=url,data=data,headers=headers)\n",
    "    response = urllib.request.urlopen(req)\n",
    "    content = json.loads(response.read().decode('utf-8'))\n",
    "    result = content['trans_result'][0]['dst']\n",
    "    return result\n",
    "\n",
    "if __name__ == \"__main__\":\n",
    "    while True :\n",
    "        text = input('翻译内容：')\n",
    "        if text == '':\n",
    "            print('End')\n",
    "            break\n",
    "        result = translate(text)\n",
    "        print('翻译结果：%s' % result)\n",
    "        "
   ]
  },
  {
   "cell_type": "code",
   "execution_count": null,
   "metadata": {},
   "outputs": [],
   "source": [
    "import re\n",
    "base_url = 'http://tieba.baidu.com/f?kw=' + urllib.parse.quote('计算机') + '&ie=utf-8&pn={page}'\n",
    "total_page = int(re.findall(r'共有主题数<span class=\"red_text\">(\\d+)</span>个',get_page(base_url.format(page=str(0))))[0])\n",
    "total_page"
   ]
  },
  {
   "cell_type": "code",
   "execution_count": null,
   "metadata": {},
   "outputs": [],
   "source": []
  }
 ],
 "metadata": {
  "kernelspec": {
   "display_name": "Python 3",
   "language": "python",
   "name": "python3"
  },
  "language_info": {
   "codemirror_mode": {
    "name": "ipython",
    "version": 3
   },
   "file_extension": ".py",
   "mimetype": "text/x-python",
   "name": "python",
   "nbconvert_exporter": "python",
   "pygments_lexer": "ipython3",
   "version": "3.6.5"
  }
 },
 "nbformat": 4,
 "nbformat_minor": 2
}
