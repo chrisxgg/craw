{
 "cells": [
  {
   "cell_type": "markdown",
   "metadata": {},
   "source": [
    "# 价格/需求走势 Trend"
   ]
  },
  {
   "cell_type": "markdown",
   "metadata": {},
   "source": [
    "## 抓取对应月份的[挂牌均价,成交价格] 和 [新增房源,带看次数]\n",
    "## Craw the [listprice, dealprice] and [houseamount, showmount] of corresponding month."
   ]
  },
  {
   "cell_type": "code",
   "execution_count": 1,
   "metadata": {},
   "outputs": [],
   "source": [
    "import urllib.request\n",
    "import urllib.parse\n",
    "import json\n",
    "import csv\n",
    "import requests\n",
    "\n",
    "def openfile_1(fileName,txt):\n",
    "    return open('folder/'+fileName+txt+'.csv','w',encoding='utf-8',newline='')\n",
    "def save2file_1(fd,data,flag):\n",
    "    writer = csv.writer(fd)\n",
    "    if flag == 1:\n",
    "        df1 = ['月份','挂牌均价(元/平)','成交价格(元/平)']\n",
    "        df2 = ['MONTH','LISTPRICE','DEALPRICE']\n",
    "    if flag == 2:\n",
    "        df1 = ['月份','新增房源','带看次数(次)']\n",
    "        df2 = ['AREA','HOUSEAMOUNT','SHOWAMOUNT']\n",
    "    writer.writerow(df1)\n",
    "    writer.writerow(df2)\n",
    "    for item in data:\n",
    "        writer.writerow(item)\n",
    "    fd.close()\n",
    "def curves_value(url1,url2,name,mon_num1,mon_num2):\n",
    "    headers = { \n",
    "    'User-Agent':'Mozilla/5.0 (Windows NT 10.0; WOW64) AppleWebKit/537.36 (KHTML, like Gecko) Chrome/67.0.3396.99 Safari/537.36'\n",
    "    }\n",
    "    response1 = requests.get(url=url1,headers=headers)\n",
    "    response2 = requests.get(url=url2,headers=headers)\n",
    "    html1 = response1.json()\n",
    "    html2 = response2.json()\n",
    "    month1 = []\n",
    "    listPrice = []\n",
    "    dealPrice = []\n",
    "    month2 = []\n",
    "    houseAmount = []\n",
    "    showAmount = []\n",
    "    for i in range(mon_num1):\n",
    "        month1.append(html1['currentLevel']['month'][i][0:2])\n",
    "        listPrice.append(html1['currentLevel']['listPrice']['total'][i])\n",
    "        dealPrice.append(html1['currentLevel']['dealPrice']['total'][i])\n",
    "    for j in range(mon_num2):\n",
    "        month2.append(html2['duration'][j][0:1])\n",
    "        houseAmount.append(html2['houseAmount'][j])\n",
    "        showAmount.append(html2['showAmount'][j])\n",
    "    data_0 = zip(month1,listPrice,dealPrice)\n",
    "    data_1 = zip(month2,houseAmount,showAmount)\n",
    "    fd_0 = openfile_1(name,'价格走势')\n",
    "    fd_1 = openfile_1(name,'供需走势')\n",
    "    save2file_1(fd_0,data_0,1)\n",
    "    save2file_1(fd_1,data_1,2)\n"
   ]
  },
  {
   "cell_type": "code",
   "execution_count": 2,
   "metadata": {},
   "outputs": [],
   "source": [
    "# 青岛\n",
    "qd_url1 = 'https://qd.lianjia.com/fangjia/priceTrend/?region=city&region_id=370200'\n",
    "qd_url2 = 'https://qd.lianjia.com/fangjia/priceTrend/?region=city&region_id=370200&analysis=1'\n",
    "data = curves_value(qd_url1,qd_url2,'青岛',12,11)"
   ]
  },
  {
   "cell_type": "code",
   "execution_count": 3,
   "metadata": {},
   "outputs": [],
   "source": [
    "# 市北\n",
    "shibei_url1 = 'https://qd.lianjia.com/fangjia/priceTrend/?region=district&region_id=370203'\n",
    "shibei_url2 = 'https://qd.lianjia.com/fangjia/priceTrend/?region=district&region_id=370203&analysis=1'\n",
    "data = curves_value(shibei_url1,shibei_url2,'市北',12,11)"
   ]
  },
  {
   "cell_type": "code",
   "execution_count": 4,
   "metadata": {},
   "outputs": [],
   "source": [
    "# 市南\n",
    "shinan_url1 = 'https://qd.lianjia.com/fangjia/priceTrend/?region=district&region_id=370202'\n",
    "shinan_url2 = 'https://qd.lianjia.com/fangjia/priceTrend/?region=district&region_id=370202&analysis=1'\n",
    "data = curves_value(shinan_url1,shinan_url2,'市南',12,11)"
   ]
  },
  {
   "cell_type": "code",
   "execution_count": 5,
   "metadata": {},
   "outputs": [],
   "source": [
    "# 崂山\n",
    "laoshan_url1 = 'https://qd.lianjia.com/fangjia/priceTrend/?region=district&region_id=370212'\n",
    "laoshan_url2 = 'https://qd.lianjia.com/fangjia/priceTrend/?region=district&region_id=370212&analysis=1'\n",
    "data = curves_value(laoshan_url1,laoshan_url2,'崂山',12,11)"
   ]
  },
  {
   "cell_type": "code",
   "execution_count": 6,
   "metadata": {},
   "outputs": [],
   "source": [
    "# 黄岛\n",
    "huangdao_url1 = 'https://qd.lianjia.com/fangjia/priceTrend/?region=district&region_id=370211'\n",
    "huangdao_url2 = 'https://qd.lianjia.com/fangjia/priceTrend/?region=district&region_id=370211&analysis=1'\n",
    "data = curves_value(huangdao_url1,huangdao_url2,'黄岛',12,11)"
   ]
  },
  {
   "cell_type": "code",
   "execution_count": 7,
   "metadata": {},
   "outputs": [],
   "source": [
    "# 李沧\n",
    "licang_url1 = 'https://qd.lianjia.com/fangjia/priceTrend/?region=district&region_id=370213'\n",
    "licang_url2 = 'https://qd.lianjia.com/fangjia/priceTrend/?region=district&region_id=370213&analysis=1'\n",
    "data = curves_value(licang_url1,licang_url2,'李沧',12,11)"
   ]
  },
  {
   "cell_type": "code",
   "execution_count": 8,
   "metadata": {},
   "outputs": [],
   "source": [
    "# 城阳\n",
    "chengyang_url1 = 'https://qd.lianjia.com/fangjia/priceTrend/?region=district&region_id=370214'\n",
    "chengyang_url2 = 'https://qd.lianjia.com/fangjia/priceTrend/?region=district&region_id=370214&analysis=1'\n",
    "data = curves_value(chengyang_url1,chengyang_url2,'城阳',12,11)"
   ]
  },
  {
   "cell_type": "code",
   "execution_count": 9,
   "metadata": {},
   "outputs": [],
   "source": [
    "# 即墨\n",
    "jimo_url1 = 'https://qd.lianjia.com/fangjia/priceTrend/?region=district&region_id=370282'\n",
    "jimo_url2 = 'https://qd.lianjia.com/fangjia/priceTrend/?region=district&region_id=370282&analysis=1'\n",
    "data = curves_value(jimo_url1,jimo_url2,'即墨',12,11)"
   ]
  },
  {
   "cell_type": "code",
   "execution_count": 10,
   "metadata": {},
   "outputs": [],
   "source": [
    "# 胶州\n",
    "jiaozhou_url1 = 'https://qd.lianjia.com/fangjia/priceTrend/?region=district&region_id=370281'\n",
    "jiaozhou_url2 = 'https://qd.lianjia.com/fangjia/priceTrend/?region=district&region_id=370281&analysis=1'\n",
    "data = curves_value(jiaozhou_url1,jiaozhou_url2,'胶州',11,10)"
   ]
  },
  {
   "cell_type": "code",
   "execution_count": 11,
   "metadata": {},
   "outputs": [],
   "source": [
    "# 平度\n",
    "pingdu_url1 = 'https://qd.lianjia.com/fangjia/priceTrend/?region=district&region_id=370283'\n",
    "pingdu_url2 = 'https://qd.lianjia.com/fangjia/priceTrend/?region=district&region_id=370283&analysis=1'\n",
    "data = curves_value(pingdu_url1,pingdu_url2,'平度',9,6)"
   ]
  },
  {
   "cell_type": "code",
   "execution_count": 12,
   "metadata": {},
   "outputs": [],
   "source": [
    "# 莱西\n",
    "laixi_url1 = 'https://qd.lianjia.com/fangjia/priceTrend/?region=district&region_id=370283'\n",
    "laixi_url2 = 'https://qd.lianjia.com/fangjia/priceTrend/?region=district&region_id=370283&analysis=1'\n",
    "data = curves_value(laixi_url1,laixi_url2,'莱西',4,3)"
   ]
  },
  {
   "cell_type": "code",
   "execution_count": null,
   "metadata": {},
   "outputs": [],
   "source": []
  }
 ],
 "metadata": {
  "kernelspec": {
   "display_name": "Python 3",
   "language": "python",
   "name": "python3"
  },
  "language_info": {
   "codemirror_mode": {
    "name": "ipython",
    "version": 3
   },
   "file_extension": ".py",
   "mimetype": "text/x-python",
   "name": "python",
   "nbconvert_exporter": "python",
   "pygments_lexer": "ipython3",
   "version": "3.6.5"
  }
 },
 "nbformat": 4,
 "nbformat_minor": 2
}
